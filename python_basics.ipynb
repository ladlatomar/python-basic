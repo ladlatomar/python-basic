{
  "nbformat": 4,
  "nbformat_minor": 0,
  "metadata": {
    "colab": {
      "provenance": []
    },
    "kernelspec": {
      "name": "python3",
      "display_name": "Python 3"
    },
    "language_info": {
      "name": "python"
    }
  },
  "cells": [
    {
      "cell_type": "markdown",
      "source": [
        "#python basics"
      ],
      "metadata": {
        "id": "rTIjUOBuhAqd"
      }
    },
    {
      "cell_type": "markdown",
      "source": [
        "#1: What is Python, and why is it popular?\n",
        "\n",
        "Ans:- Python is a high-level, interpreted programming language known for its simplicity, readability, and versatility. It was created by Guido van Rossum and first released in 1991. Python's design philosophy emphasizes code readability and a syntax that allows programmers to express concepts in fewer lines of code, which makes it accessible to beginners while still powerful enough for experienced developers.\n",
        "\n",
        "It is popular for some reasons.\n",
        "\n",
        "Ease of Learning and Use:\n",
        "\n",
        "Python has a clean and easy-to-understand syntax, making it a great choice for beginners. Unlike many programming languages, Python doesn't require you to worry about complex syntax rules, such as braces for code blocks or semicolons to terminate statements.\n",
        "\n",
        "Versatility:\n",
        "\n",
        "Python can be used for a wide range of applications, from web development and data science to machine learning, automation, and scripting. It has extensive libraries and frameworks that make it suitable for almost any type of software development.\n",
        "\n",
        "Large Community and Ecosystem:\n",
        "\n",
        "Python has one of the largest and most active developer communities. This means there are plenty of tutorials, forums, and resources available. Python also has a rich ecosystem of third-party libraries and tools, such as NumPy (for data manipulation), Pandas (for data analysis), and Django (for web development).\n",
        "\n",
        "#2: What is an interpreter in Python?\n",
        "\n",
        "Ans: In Python, an interpreter is a program that reads and executes Python code line by line. Unlike compiled languages (such as C or Java), where the code is first translated into machine code (binary) and then executed, Python is an interpreted language. This means that instead of producing a separate executable file, Python code is run directly by the Python interpreter.\n",
        "\n",
        "Key points about the Python interpreter:\n",
        "Line-by-Line Execution\n",
        "No Need for Compilation\n",
        "Interactive Mode\n",
        "Cross-Platform\n",
        "Error Handling\n",
        "\n",
        "#3: What are pre-defined keywords in Python?\n",
        "\n",
        "Ans: In Python, predefined keywords (also called reserved words) are special words that have a predefined meaning and cannot be used as identifiers (such as variable names, function names, etc.) in the program. These keywords are an integral part of the Python language syntax and are reserved by the Python interpreter for specific purposes, such as defining control flow, handling data, and managing program structure.\n",
        "\n",
        "#4: Can keywords be used as variable names?\n",
        "\n",
        "Ans: No, keywords cannot be used as variable names in Python. Keywords are reserved words that have a special meaning in Python and are an integral part of the language's syntax. These keywords are used to define the structure and behavior of the code, such as defining control flow, functions, classes, and other language-specific constructs.\n",
        "\n",
        "#5: What is mutability in Python?\n",
        "\n",
        "Ans: Mutability in Python refers to whether or not an object can be changed after it has been created. In other words, if an object is mutable, you can modify its content or state after it is created. On the other hand, if an object is immutable, its content or state cannot be changed once it is created.\n",
        "\n",
        "#6: Why are lists mutable, but tuples are immutable?\n",
        "\n",
        "Ans: The difference in mutability between lists and tuples in Python is intentional and is based on their intended use cases, design philosophy, and how they are optimized for performance. Let's explore why lists are mutable and tuples are immutable:\n",
        "\n",
        "Lists are designed to be dynamic, meaning they are typically used when you need to modify the contents over time. This includes operations such as adding, removing, or changing elements, which makes them suitable for scenarios where the data might change, such as managing collections of items where the number of items may vary.\n",
        "\n",
        "Tuples, on the other hand, are designed to be immutable, meaning their contents cannot be modified once they are created. They are meant to represent fixed, constant collections of data that shouldn't be changed, making them a good fit for data that should remain the same throughout the program. This immutability ensures that tuples can be used as keys in dictionaries and elements in sets, whereas lists cannot (because mutable objects can be changed, which could cause issues when used in sets or as dictionary keys).\n",
        "\n",
        "#7: What is the difference between “==” and “is” operators in Python?\n",
        "\n",
        "Ans: In Python, both == and is are comparison operators, but they are used for different purposes. Here's a breakdown of their differences:\n",
        "\n",
        "1. The == Operator:\n",
        "The == operator is used to compare the values of two objects to see if they are equal.\n",
        "\n",
        "It checks whether the data or contents of two objects are the same, meaning it looks for equality of the values.\n",
        "\n",
        "#example\n",
        "a = [1, 2, 3]\n",
        "b = [1, 2, 3]\n",
        "\n",
        "print(a == b)  # Output: True\n",
        "\n",
        "In this case, a and b are two different list objects, but they contain the same values ([1, 2, 3]), so a == b returns True.\n",
        "\n",
        "2. The is Operator:\n",
        "The is operator is used to compare the identity of two objects, i.e., it checks whether the two objects are the same object in memory, not just if their contents are equal.\n",
        "\n",
        "It checks whether two variables refer to the same object in memory, not whether their values are the same.\n",
        "\n",
        "#example\n",
        "a = [1, 2, 3]\n",
        "b = [1, 2, 3]\n",
        "\n",
        "print(a is b)  # Output: False\n",
        "\n",
        "Even though a and b have the same values, they are two different objects in memory. Therefore, a is b returns False.\n",
        "\n",
        "When to Use == vs is:\n",
        "Use == when you want to compare the values of objects.\n",
        "\n",
        "Use is when you want to check if two variables point to the same object in memory (i.e., they are identical objects).\n",
        "\n",
        "#8: What are logical operators in Python?\n",
        "\n",
        "Ans: In Python, logical operators are used to combine conditional statements and return a boolean result (either True or False). These operators allow you to perform logical operations on boolean values or on conditions that evaluate to boolean values. There are three primary logical operators in Python:\n",
        "\n",
        "1. and Operator:\n",
        "The and operator returns True if both conditions are true.\n",
        "\n",
        "If either condition is false, it returns False.\n",
        "\n",
        "Example:\n",
        "\n",
        "a = 5\n",
        "b = 10\n",
        "print(a > 0 and b < 20)  # Output: True (both conditions are true)\n",
        "print(a > 10 and b < 20)  # Output: False (first condition is false)\n",
        "In the first example, both conditions (a > 0 and b < 20) are true, so the result is True.\n",
        "\n",
        "In the second example, a > 10 is false, so the overall result is False even though b < 20 is true.\n",
        "\n",
        "2. or Operator:\n",
        "The or operator returns True if at least one of the conditions is true.\n",
        "\n",
        "If both conditions are false, it returns False.\n",
        "\n",
        "Example:\n",
        "\n",
        "a = 5\n",
        "b = 10\n",
        "print(a > 0 or b < 20)  # Output: True (first condition is true)\n",
        "print(a > 10 or b > 20)  # Output: False (both conditions are false)\n",
        "In the first example, a > 0 is true, so the result is True regardless of the second condition.\n",
        "\n",
        "In the second example, both conditions are false, so the result is False.\n",
        "\n",
        "3. not Operator:\n",
        "The not operator is a negation operator that returns the opposite boolean value of the condition.\n",
        "\n",
        "If the condition is True, it returns False, and if the condition is False, it returns True.\n",
        "\n",
        "Example:\n",
        "\n",
        "a = True\n",
        "b = False\n",
        "print(not a)  # Output: False (negates True)\n",
        "print(not b)  # Output: True (negates False)\n",
        "not a flips the value of a, so True becomes False.\n",
        "\n",
        "not b flips the value of b, so False becomes True.\n",
        "\n",
        "Combining Logical Operators:\n",
        "You can combine these logical operators to create more complex conditions.\n",
        "\n",
        "Example:\n",
        "\n",
        "\n",
        "a = 5\n",
        "b = 10\n",
        "c = 20\n",
        "\n",
        "# Combined condition\n",
        "result = (a < b and b < c) or (a > 10)\n",
        "print(result)  # Output: True (a < b and b < c are both true, so or operator returns true)\n",
        "Precedence of Logical Operators:\n",
        "When combining multiple logical operators in a single expression, Python follows specific precedence rules:\n",
        "\n",
        "not has the highest precedence (it is evaluated first).\n",
        "\n",
        "and has a higher precedence than or.\n",
        "\n",
        "You can control the evaluation order using parentheses () to group conditions explicitly.\n",
        "\n",
        "Summary:\n",
        "and: Returns True if both conditions are True; otherwise, returns False.\n",
        "\n",
        "or: Returns True if at least one condition is True; otherwise, returns False.\n",
        "\n",
        "not: Reverses the boolean value of the condition (returns True if False, and False if True).\n",
        "\n",
        "These logical operators are fundamental in Python for making complex decisions and controlling the flow of your programs.\n",
        "\n",
        "#9: What is type casting in Python?\n",
        "Ans: Type casting in Python refers to the process of converting one data type to another. This is often necessary when you need to work with different types of data in a program, such as converting a string to an integer, or an integer to a float.\n",
        "\n",
        "In Python, type casting can be done explicitly (using built-in functions) or implicitly (by Python automatically converting between compatible types).\n",
        "\n",
        "Types of Type Casting in Python:\n",
        "Implicit Type Casting (Automatic Type Conversion):\n",
        "\n",
        "Python automatically converts a smaller data type to a larger data type when required. This is known as implicit type casting. For example, if you add an integer to a float, Python will automatically convert the integer to a float.\n",
        "\n",
        "Example:\n",
        "\n",
        "a = 5     # integer\n",
        "b = 3.2   # float\n",
        "result = a + b  # Python automatically converts 'a' to a float\n",
        "print(result)   # Output: 8.2 (float)\n",
        "Explicit Type Casting (Manual Type Conversion):\n",
        "\n",
        "This involves manually converting one data type to another using built-in functions. This is called explicit type casting. Python provides several built-in functions to perform this kind of conversion.\n",
        "\n",
        "Common Functions for Explicit Type Casting:\n",
        "int(): Converts a value to an integer (whole number).\n",
        "\n",
        "float(): Converts a value to a floating-point number (decimal).\n",
        "\n",
        "str(): Converts a value to a string.\n",
        "\n",
        "bool(): Converts a value to a boolean (True or False).\n",
        "\n",
        "Examples:\n",
        "\n",
        "Converting to Integer:\n",
        "\n",
        "a = 3.7\n",
        "b = int(a)  # Converts float to integer (truncates decimal part)\n",
        "print(b)    # Output: 3\n",
        "Converting to Float:\n",
        "\n",
        "a = 10\n",
        "b = float(a)  # Converts integer to float\n",
        "print(b)      # Output: 10.0\n",
        "Converting to String:\n",
        "\n",
        "a = 42\n",
        "b = str(a)  # Converts integer to string\n",
        "print(b)    # Output: '42'\n",
        "Converting to Boolean:\n",
        "\n",
        "a = 0\n",
        "b = bool(a)  # Converts integer 0 to boolean False\n",
        "print(b)     # Output: False\n",
        "\n",
        "a = 5\n",
        "b = bool(a)  # Converts non-zero integer to boolean True\n",
        "print(b)     # Output: True\n",
        "Example of Explicit and Implicit Type Casting Together:\n",
        "python\n",
        "\n",
        "x = \"10\"          # string\n",
        "y = 5             # integer\n",
        "\n",
        "# Implicit Type Casting (Python will handle float automatically)\n",
        "z = x + str(y)    # We convert y to string and concatenate\n",
        "print(z)          # Output: '105'\n",
        "\n",
        "# Explicit Type Casting\n",
        "x_int = int(x)    # Converting string '10' to integer\n",
        "sum_result = x_int + y  # Now we can perform arithmetic operations\n",
        "print(sum_result)  # Output: 15\n",
        "Important Notes on Type Casting:\n",
        "Converting to Incompatible Types: Some conversions are not possible, and attempting to do so will raise an error. For example, trying to convert a string that doesn't represent a number to an integer will cause an error:\n",
        "\n",
        "a = \"hello\"\n",
        "b = int(a)  # Raises ValueError: invalid literal for int() with base 10: 'hello'\n",
        "Implicit Conversion is Limited: Implicit type casting works when the conversion makes sense, like from int to float. However, Python does not automatically convert more complex or incompatible types, such as strings containing non-numeric values, to integers or floats.\n",
        "\n",
        "#10: What is the difference between implicit and explicit type casting?\n",
        "\n",
        "Ans: The difference between implicit and explicit type casting in Python lies in how the conversion between data types happens, whether it's done automatically by Python or manually by the programmer. Here's a detailed explanation:\n",
        "\n",
        "1. Implicit Type Casting (Automatic Type Conversion)\n",
        "Definition: Implicit type casting, also known as automatic type conversion, occurs when Python automatically converts one data type to another without any explicit instruction from the programmer. This happens when there is no loss of information and the conversion is safe.\n",
        "\n",
        "Python automatically converts smaller data types (like integers) to larger data types (like floats) when required. This helps prevent data loss.\n",
        "\n",
        "Example: Converting an integer to a float when performing arithmetic with a float.\n",
        "\n",
        "Example:\n",
        "\n",
        "x = 5       # Integer\n",
        "y = 2.5     # Float\n",
        "\n",
        "result = x + y  # Python automatically converts x (int) to float\n",
        "print(result)    # Output: 7.5 (float)\n",
        "Here, x is an integer, and y is a float. When adding x and y, Python automatically converts x (the integer) to a float before performing the addition, so the result is a float.\n",
        "\n",
        "Key Characteristics of Implicit Type Casting:\n",
        "Happens automatically.\n",
        "\n",
        "Typically happens when the smaller data type is used in an operation with a larger data type (e.g., int to float).\n",
        "\n",
        "Python ensures no data loss or lossless conversion.\n",
        "\n",
        "Example conversions: int → float, short → long (in some languages; Python uses dynamic typing).\n",
        "\n",
        "2. Explicit Type Casting (Manual Type Conversion)\n",
        "Definition: Explicit type casting, also known as manual type conversion, is when the programmer explicitly converts one data type to another using built-in Python functions like int(), float(), str(), bool(), etc.\n",
        "\n",
        "The programmer specifies the conversion, and it is up to the programmer to ensure that the conversion is valid.\n",
        "\n",
        "If the conversion is not possible (for example, trying to convert a non-numeric string to an integer), Python will raise an error.\n",
        "\n",
        "Example:\n",
        "\n",
        "x = \"10\"    # String\n",
        "y = 5       # Integer\n",
        "\n",
        "result = int(x) + y  # Explicitly converting x (string) to an integer\n",
        "print(result)        # Output: 15\n",
        "In this example, we use the int() function to explicitly convert the string \"10\" to the integer 10, allowing the addition with y.\n",
        "\n",
        "#11: What is the purpose of conditional statements in Python?\n",
        "\n",
        "Ans: Conditional statements in Python are used to perform different actions based on certain conditions. They allow you to control the flow of your program and make decisions by evaluating boolean expressions. Based on whether a condition is True or False, the program will execute specific code blocks. These are essential for decision-making and enabling your program to respond to different inputs or states.\n",
        "\n",
        "Key Purposes of Conditional Statements in Python:\n",
        "Decision Making:\n",
        "\n",
        "Conditional statements allow the program to make decisions and execute code based on the evaluation of conditions.\n",
        "\n",
        "For example, if a user provides an input or a variable meets a certain condition, different actions can be triggered.\n",
        "\n",
        "Control Flow:\n",
        "\n",
        "By using conditions, you can alter the flow of the program, enabling more complex logic than a linear sequence of commands. It gives the program the ability to \"branch\" based on conditions.\n",
        "\n",
        "Creating Dynamic Programs:\n",
        "\n",
        "Conditional statements enable the creation of dynamic programs that can respond differently to varying inputs or states. For instance, a program may behave differently depending on the time of day, user input, or other factors.\n",
        "\n",
        "Types of Conditional Statements in Python:\n",
        "if Statement:\n",
        "\n",
        "The if statement allows you to execute a block of code only if a condition is True.\n",
        "\n",
        "Syntax:\n",
        "\n",
        "if condition:\n",
        "    # Code to execute if the condition is True\n",
        "Example:\n",
        "\n",
        "age = 18\n",
        "if age >= 18:\n",
        "    print(\"You are an adult.\")\n",
        "In this example, since age is 18, the condition age >= 18 is True, and the program will print \"You are an adult.\".\n",
        "\n",
        "else Statement:\n",
        "\n",
        "The else statement can be used with an if statement to execute code if the condition is False.\n",
        "\n",
        "Syntax:\n",
        "\n",
        "if condition:\n",
        "    # Code if True\n",
        "else:\n",
        "    # Code if False\n",
        "Example:\n",
        "\n",
        "age = 16\n",
        "if age >= 18:\n",
        "    print(\"You are an adult.\")\n",
        "else:\n",
        "    print(\"You are a minor.\")\n",
        "Here, since age is 16, the condition age >= 18 is False, and the program will print \"You are a minor.\".\n",
        "\n",
        "elif (Else-If) Statement:\n",
        "\n",
        "The elif (short for \"else if\") statement allows you to check multiple conditions. If the first condition is False, Python will check the elif conditions in order until one is True, or it will execute the else block if all conditions are False.\n",
        "\n",
        "Syntax:\n",
        "if condition1:\n",
        "    # Code if condition1 is True\n",
        "elif condition2:\n",
        "    # Code if condition2 is True\n",
        "else:\n",
        "    # Code if both conditions are False\n",
        "Example:\n",
        "age = 21\n",
        "if age < 18:\n",
        "    print(\"You are a minor.\")\n",
        "elif age >= 18 and age < 21:\n",
        "    print(\"You are an adult, but not old enough to drink.\")\n",
        "else:\n",
        "    print(\"You are an adult and old enough to drink.\")\n",
        "Since age is 21, the first two conditions are False, and the program will print \"You are an adult and old enough to drink.\".\n",
        "\n",
        "Combining Conditions:\n",
        "You can combine multiple conditions using logical operators (and, or, not) to create more complex conditions.\n",
        "\n",
        "and: Returns True if both conditions are true.\n",
        "\n",
        "or: Returns True if at least one condition is true.\n",
        "\n",
        "not: Inverts the boolean value.\n",
        "\n",
        "Example:\n",
        "age = 25\n",
        "has_license = True\n",
        "\n",
        "if age >= 18 and has_license:\n",
        "    print(\"You are allowed to drive.\")\n",
        "else:\n",
        "    print(\"You are not allowed to drive.\")\n",
        "Nested Conditional Statements:\n",
        "You can also nest conditional statements inside other conditional blocks to create more complex decision structures.\n",
        "\n",
        "Example:\n",
        "\n",
        "age = 20\n",
        "has_ticket = True\n",
        "\n",
        "if age >= 18:\n",
        "    if has_ticket:\n",
        "        print(\"You can enter the event.\")\n",
        "    else:\n",
        "        print(\"You need a ticket to enter the event.\")\n",
        "else:\n",
        "    print(\"You are not old enough to enter the event.\")\n",
        "Summary of Conditional Statements:\n",
        "if: Executes code if the condition is True.\n",
        "\n",
        "else: Executes code if the condition is False.\n",
        "\n",
        "elif: Checks multiple conditions in sequence and executes code for the first True condition.\n",
        "\n",
        "Logical Operators: Combine conditions with and, or, and not for more complex decision-making.\n",
        "\n",
        "Nesting: Use conditional statements inside other statements for more complex logic.\n",
        "\n",
        "Conditional statements in Python allow you to write dynamic and responsive programs, making decisions based on changing inputs or variables. They are essential for controlling the flow of execution and enabling logic-based behavior in programs.\n",
        "\n",
        "#12: How does the elif statement work?\n",
        "\n",
        "Ans: The elif (short for \"else if\") statement allows you to check multiple conditions. If the first condition is False, Python will check the elif conditions in order until one is True, or it will execute the else block if all conditions are False.\n",
        "\n",
        "python Syntax:\n",
        "if condition1:\n",
        "    # Code if condition1 is True\n",
        "elif condition2:\n",
        "    # Code if condition2 is True\n",
        "else:\n",
        "    # Code if both conditions are False\n",
        "\n",
        "#13: What is the difference between for and while loops?\n",
        "\n",
        "Ans: In Python, for loops and while loops are both used for repeating a block of code multiple times, but they are used in different scenarios. Here's the difference between the two:\n",
        "\n",
        "1. for Loop:\n",
        "A for loop is generally used when you know in advance how many times you want to iterate through a block of code. It iterates over a sequence (such as a list, tuple, string, or range) or other iterable objects.\n",
        "\n",
        "Syntax:\n",
        "\n",
        "for item in iterable:\n",
        "    # Code to execute for each item in the iterable\n",
        "Example:\n",
        "# Using a for loop to iterate over a list\n",
        "fruits = [\"apple\", \"banana\", \"cherry\"]\n",
        "for fruit in fruits:\n",
        "    print(fruit)\n",
        "\n",
        "Output:\n",
        "apple\n",
        "banana\n",
        "cherry\n",
        "\n",
        "In this example, the loop iterates over each element in the fruits list and prints them one by one.\n",
        "\n",
        "Key Characteristics of for Loop:\n",
        "Iterates over a sequence (e.g., a list, tuple, or string) or a range.\n",
        "\n",
        "The number of iterations is determined by the length of the iterable or a specific range.\n",
        "\n",
        "It's useful when you know the exact number of iterations or when iterating through elements in an iterable.\n",
        "\n",
        "2. while Loop:\n",
        "A while loop is used when you don't know in advance how many times the loop should run. It continues to execute as long as the condition evaluates to True.\n",
        "\n",
        "Syntax:\n",
        "while condition:\n",
        "    # Code to execute while the condition is True\n",
        "\n",
        "Example:\n",
        "# Using a while loop to print numbers from 1 to 5\n",
        "i = 1\n",
        "while i <= 5:\n",
        "    print(i)\n",
        "    i += 1\n",
        "Output:\n",
        "1\n",
        "2\n",
        "3\n",
        "4\n",
        "5\n",
        "\n",
        "In this example, the loop runs as long as i <= 5. Each time the loop executes, i is incremented by 1 until the condition becomes False.\n",
        "\n",
        "Key Characteristics of while Loop:\n",
        "The loop continues to execute as long as a condition is True.\n",
        "\n",
        "The number of iterations is not fixed and depends on the condition.\n",
        "\n",
        "It's useful when you don’t know how many times the loop will run in advance but have a condition that determines when to stop.\n",
        "\n",
        "#14: Describe a scenario where a while loop is more suitable than a for loop.\n",
        "\n",
        "Ans: A while loop is more suitable than a for loop in scenarios where the number of iterations is not predetermined and depends on a condition that is evaluated during the loop's execution. This makes the while loop ideal for cases where the loop should continue running until a certain dynamic condition is met, rather than iterating over a known sequence or range.\n",
        "\n",
        "Scenario Example: User Input Validation\n",
        "Let's say you are writing a program that asks a user to input a valid email address. The program should keep asking the user for input until they enter a valid email. In this case, the number of attempts is not known in advance, and the program should continue prompting the user until the condition (valid email input) is met."
      ],
      "metadata": {
        "id": "tRvKzzdThBlf"
      }
    },
    {
      "cell_type": "markdown",
      "source": [
        "#Practical Questions\n"
      ],
      "metadata": {
        "id": "AGUzQ1Mkq9Ga"
      }
    },
    {
      "cell_type": "markdown",
      "source": [
        "1: Write a Python program to print \"Hello, World!_\n"
      ],
      "metadata": {
        "id": "q60QgHjMrLh9"
      }
    },
    {
      "cell_type": "code",
      "source": [
        "a = \" hello world\"\n",
        "print (a)"
      ],
      "metadata": {
        "colab": {
          "base_uri": "https://localhost:8080/"
        },
        "id": "jxL3909MrSru",
        "outputId": "83e8cd4e-2758-4b6e-8671-32ccf48a1ecc"
      },
      "execution_count": null,
      "outputs": [
        {
          "output_type": "stream",
          "name": "stdout",
          "text": [
            " hello world\n"
          ]
        }
      ]
    },
    {
      "cell_type": "markdown",
      "source": [
        "2:  Write a Python program that displays your name and age\n"
      ],
      "metadata": {
        "id": "F7jCierbrbXc"
      }
    },
    {
      "cell_type": "code",
      "source": [
        "name = \"Arun Singh Tomar\"\n",
        "age = 21\n",
        "print(\"Name : \",name)\n",
        "print(\"Age : \",age)"
      ],
      "metadata": {
        "colab": {
          "base_uri": "https://localhost:8080/"
        },
        "id": "L2ap4mUPs9yD",
        "outputId": "bee44561-3141-42d4-d397-3d12b112fac9"
      },
      "execution_count": null,
      "outputs": [
        {
          "output_type": "stream",
          "name": "stdout",
          "text": [
            "Name :  Arun Singh Tomar\n",
            "Age :  21\n"
          ]
        }
      ]
    },
    {
      "cell_type": "markdown",
      "source": [
        "3: Write code to print all the pre-defined keywords in Python using the keyword library\n"
      ],
      "metadata": {
        "id": "weyXwkg3trB4"
      }
    },
    {
      "cell_type": "code",
      "source": [
        "import keyword\n",
        "\n",
        "# Get the list of all Python keywords\n",
        "keywords = keyword.kwlist\n",
        "\n",
        "# Print all the keywords\n",
        "print(\"Python predefined keywords:\")\n",
        "for k in keywords:\n",
        "    print(k)\n"
      ],
      "metadata": {
        "colab": {
          "base_uri": "https://localhost:8080/"
        },
        "id": "mYLLk9eptyZx",
        "outputId": "f47d19aa-a678-4bf1-9db0-98a963bbe77e"
      },
      "execution_count": null,
      "outputs": [
        {
          "output_type": "stream",
          "name": "stdout",
          "text": [
            "Python predefined keywords:\n",
            "False\n",
            "None\n",
            "True\n",
            "and\n",
            "as\n",
            "assert\n",
            "async\n",
            "await\n",
            "break\n",
            "class\n",
            "continue\n",
            "def\n",
            "del\n",
            "elif\n",
            "else\n",
            "except\n",
            "finally\n",
            "for\n",
            "from\n",
            "global\n",
            "if\n",
            "import\n",
            "in\n",
            "is\n",
            "lambda\n",
            "nonlocal\n",
            "not\n",
            "or\n",
            "pass\n",
            "raise\n",
            "return\n",
            "try\n",
            "while\n",
            "with\n",
            "yield\n"
          ]
        }
      ]
    },
    {
      "cell_type": "markdown",
      "source": [
        "4: : Write a program that checks if a given word is a Python keyword"
      ],
      "metadata": {
        "id": "HdSiTQITvGTC"
      }
    },
    {
      "cell_type": "code",
      "source": [
        "import keyword\n",
        "\n",
        "# Function to check if the given word is a Python keyword\n",
        "def is_keyword(word):\n",
        "    if keyword.iskeyword(word):\n",
        "        return True\n",
        "    else:\n",
        "        return False\n",
        "\n",
        "# Get input from the user\n",
        "word = input(\"Enter a word to check if it's a Python keyword: \")\n",
        "\n",
        "# Check if the word is a Python keyword\n",
        "if is_keyword(word):\n",
        "    print(f\"'{word}' is a Python keyword.\")\n",
        "else:\n",
        "    print(f\"'{word}' is not a Python keyword.\")\n"
      ],
      "metadata": {
        "colab": {
          "base_uri": "https://localhost:8080/"
        },
        "id": "GEiiiiqovMaE",
        "outputId": "29cf0775-ac0f-4870-8479-4c7fc03c9b4f"
      },
      "execution_count": null,
      "outputs": [
        {
          "output_type": "stream",
          "name": "stdout",
          "text": [
            "Enter a word to check if it's a Python keyword: import\n",
            "'import' is a Python keyword.\n"
          ]
        }
      ]
    },
    {
      "cell_type": "markdown",
      "source": [
        "5: Create a list and tuple in Python, and demonstrate how attempting to change an element works differently\n",
        "for each"
      ],
      "metadata": {
        "id": "gp0Ta1ZewGBs"
      }
    },
    {
      "cell_type": "code",
      "source": [
        "# Creating a list\n",
        "my_list = [1, 2, 3, 4]\n",
        "\n",
        "# Modifying an element in the list\n",
        "my_list[1] = 10  # Changing the element at index 1 (which is 2) to 10\n",
        "print(\"Updated list:\", my_list)\n",
        "\n",
        "#A list in Python is mutable, meaning its contents can be changed after it is created.\n",
        "#In the case of lists, you can change the value of an element by assigning a new value to it (e.g., my_list[1] = 10).\n",
        "\n",
        "\n"
      ],
      "metadata": {
        "colab": {
          "base_uri": "https://localhost:8080/"
        },
        "id": "tAxfFLfZwanH",
        "outputId": "1d1ab623-d7dc-416b-a4f6-abfce16eb04b"
      },
      "execution_count": null,
      "outputs": [
        {
          "output_type": "stream",
          "name": "stdout",
          "text": [
            "Updated list: [1, 10, 3, 4]\n"
          ]
        }
      ]
    },
    {
      "cell_type": "code",
      "source": [
        "# Creating a tuple\n",
        "my_tuple = (1, 2, 3, 4)\n",
        "\n",
        "# Trying to modify an element in the tuple (this will cause an error)\n",
        "try:\n",
        "    my_tuple[1] = 10  # Attempting to change the element at index 1 (which is 2) to 10\n",
        "except TypeError as e:\n",
        "    print(\"Error:\", e)\n",
        "#In the case of tuples, trying to change the value of an element (e.g., my_tuple[1] = 10) will raise a TypeError, because tuples are immutable"
      ],
      "metadata": {
        "id": "Fpg6ACm9wtqz"
      },
      "execution_count": null,
      "outputs": []
    },
    {
      "cell_type": "markdown",
      "source": [
        "6: Write a function to demonstrate the behavior of mutable and immutable arguments"
      ],
      "metadata": {
        "id": "Zq_sZXoHxS5R"
      }
    },
    {
      "cell_type": "code",
      "source": [
        "# Function to demonstrate mutable and immutable argument behavior\n",
        "def demonstrate_mutable_immutable(mutable_arg, immutable_arg):\n",
        "    print(\"Before modification:\")\n",
        "    print(\"Mutable argument:\", mutable_arg)\n",
        "    print(\"Immutable argument:\", immutable_arg)\n",
        "\n",
        "    # Modifying the mutable argument (it will affect the original object)\n",
        "    mutable_arg.append(4)  # Adding an element to the list\n",
        "\n",
        "    # Modifying the immutable argument (it will not affect the original)\n",
        "    immutable_arg = immutable_arg + 1  # Creating a new integer\n",
        "\n",
        "    print(\"\\nAfter modification:\")\n",
        "    print(\"Mutable argument:\", mutable_arg)  # Mutable argument is changed\n",
        "    print(\"Immutable argument:\", immutable_arg)  # Immutable argument is unchanged\n",
        "\n",
        "# Creating mutable and immutable objects\n",
        "my_list = [1, 2, 3]\n",
        "my_int = 10\n",
        "\n",
        "# Calling the function\n",
        "demonstrate_mutable_immutable(my_list, my_int)\n",
        "\n",
        "# Checking the original objects after function call\n",
        "print(\"\\nOriginal objects after function call:\")\n",
        "print(\"Original mutable list:\", my_list)\n",
        "print(\"Original immutable integer:\", my_int)\n"
      ],
      "metadata": {
        "colab": {
          "base_uri": "https://localhost:8080/"
        },
        "id": "9n2Pe944xZmS",
        "outputId": "303da047-8bdf-4514-b982-51ef4856714e"
      },
      "execution_count": null,
      "outputs": [
        {
          "output_type": "stream",
          "name": "stdout",
          "text": [
            "Before modification:\n",
            "Mutable argument: [1, 2, 3]\n",
            "Immutable argument: 10\n",
            "\n",
            "After modification:\n",
            "Mutable argument: [1, 2, 3, 4]\n",
            "Immutable argument: 11\n",
            "\n",
            "Original objects after function call:\n",
            "Original mutable list: [1, 2, 3, 4]\n",
            "Original immutable integer: 10\n"
          ]
        }
      ]
    },
    {
      "cell_type": "markdown",
      "source": [
        "7: Write a function to demonstrate the behavior of mutable and immutable arguments"
      ],
      "metadata": {
        "id": "ILWrdnfUyYzq"
      }
    },
    {
      "cell_type": "code",
      "source": [
        "# Function to demonstrate mutable and immutable argument behavior\n",
        "def demonstrate_mutable_immutable(mutable_arg, immutable_arg):\n",
        "    print(\"Before modification:\")\n",
        "    print(\"Mutable argument:\", mutable_arg)\n",
        "    print(\"Immutable argument:\", immutable_arg)\n",
        "\n",
        "    # Modifying the mutable argument (it will affect the original object)\n",
        "    mutable_arg.append(4)  # Adding an element to the list\n",
        "\n",
        "    # Modifying the immutable argument (it will not affect the original)\n",
        "    immutable_arg = immutable_arg + 1  # Creating a new integer\n",
        "\n",
        "    print(\"\\nAfter modification:\")\n",
        "    print(\"Mutable argument:\", mutable_arg)  # Mutable argument is changed\n",
        "    print(\"Immutable argument:\", immutable_arg)  # Immutable argument is unchanged\n",
        "\n",
        "# Creating mutable and immutable objects\n",
        "my_list = [1, 2, 3]\n",
        "my_int = 10\n",
        "\n",
        "# Calling the function\n",
        "demonstrate_mutable_immutable(my_list, my_int)\n",
        "\n",
        "# Checking the original objects after function call\n",
        "print(\"\\nOriginal objects after function call:\")\n",
        "print(\"Original mutable list:\", my_list)\n",
        "print(\"Original immutable integer:\", my_int)"
      ],
      "metadata": {
        "id": "o-p8KOFCyt99"
      },
      "execution_count": null,
      "outputs": []
    },
    {
      "cell_type": "markdown",
      "source": [
        "8: Write a program to demonstrate the use of logical operators\n"
      ],
      "metadata": {
        "id": "YR3A9h5cyvmT"
      }
    },
    {
      "cell_type": "code",
      "source": [
        "# Simplified program to demonstrate logical operators\n",
        "\n",
        "# Defining variables\n",
        "a = 10\n",
        "b = 20\n",
        "c = 5\n",
        "\n",
        "# Using 'and' operator\n",
        "print(a > 5 and b > 15)\n",
        "print(a > 15 and b > 15)\n",
        "\n",
        "# Using 'or' operator\n",
        "print(a > 5 or b > 25)\n",
        "print(a > 15 or b > 25)\n",
        "\n",
        "# Using 'not' operator\n",
        "print(not(a > 5))\n",
        "print(not(c < 5))\n"
      ],
      "metadata": {
        "colab": {
          "base_uri": "https://localhost:8080/"
        },
        "id": "1r39G6oty-hV",
        "outputId": "62d54f7b-5201-4743-a3ea-c0fde68461d3"
      },
      "execution_count": null,
      "outputs": [
        {
          "output_type": "stream",
          "name": "stdout",
          "text": [
            "True\n",
            "False\n",
            "True\n",
            "False\n",
            "False\n",
            "True\n"
          ]
        }
      ]
    },
    {
      "cell_type": "markdown",
      "source": [
        "9: Write a Python program to convert user input from string to integer, float, and boolean types"
      ],
      "metadata": {
        "id": "Hv2TxMaXznEQ"
      }
    },
    {
      "cell_type": "code",
      "source": [
        "# Taking user input\n",
        "user_input = input(\"Enter a value: \")\n",
        "\n",
        "# Convert to integer\n",
        "int_value = int(user_input) if user_input.isdigit() else \"Invalid integer\"\n",
        "\n",
        "# Convert to float\n",
        "try:\n",
        "    float_value = float(user_input)\n",
        "except ValueError:\n",
        "    float_value = \"Invalid float\"\n",
        "\n",
        "# Convert to boolean\n",
        "bool_value = bool(user_input)\n",
        "\n",
        "# Print the results\n",
        "print(f\"Integer: {int_value}\")\n",
        "print(f\"Float: {float_value}\")\n",
        "print(f\"Boolean: {bool_value}\")\n"
      ],
      "metadata": {
        "colab": {
          "base_uri": "https://localhost:8080/"
        },
        "id": "LojFwe7Y0BkL",
        "outputId": "32d98f32-f486-4c1f-abb4-d3a8ce5331bf"
      },
      "execution_count": null,
      "outputs": [
        {
          "output_type": "stream",
          "name": "stdout",
          "text": [
            "Enter a value: 14\n",
            "Integer: 14\n",
            "Float: 14.0\n",
            "Boolean: True\n"
          ]
        }
      ]
    },
    {
      "cell_type": "markdown",
      "source": [
        "10: Write code to demonstrate type casting with list elements\n"
      ],
      "metadata": {
        "id": "4qQeMP0e0YrP"
      }
    },
    {
      "cell_type": "code",
      "source": [
        "# Original list with different types of elements\n",
        "my_list = ['10', '20.5', 'True', '30', 'False']\n",
        "\n",
        "# Convert string elements to integer, float, and boolean\n",
        "int_list = [int(x) if x.isdigit() else 0 for x in my_list]  # Convert to integer\n",
        "float_list = [float(x) if x.replace('.', '', 1).isdigit() else 0.0 for x in my_list]  # Convert to float\n",
        "bool_list = [x == 'True' for x in my_list]  # Convert to boolean (True if string is 'True')\n",
        "\n",
        "# Print the results\n",
        "print(\"Original List:\", my_list)\n",
        "print(\"Converted to Integers:\", int_list)\n",
        "print(\"Converted to Floats:\", float_list)\n",
        "print(\"Converted to Booleans:\", bool_list)\n"
      ],
      "metadata": {
        "colab": {
          "base_uri": "https://localhost:8080/"
        },
        "id": "VycAWqvG04or",
        "outputId": "b289e80c-61c2-461b-c4b9-2928e8f99e99"
      },
      "execution_count": null,
      "outputs": [
        {
          "output_type": "stream",
          "name": "stdout",
          "text": [
            "Original List: ['10', '20.5', 'True', '30', 'False']\n",
            "Converted to Integers: [10, 0, 0, 30, 0]\n",
            "Converted to Floats: [10.0, 20.5, 0.0, 30.0, 0.0]\n",
            "Converted to Booleans: [False, False, True, False, False]\n"
          ]
        }
      ]
    },
    {
      "cell_type": "markdown",
      "source": [
        "11: Write a program that checks if a number is positive, negative, or zero"
      ],
      "metadata": {
        "id": "L9q89hf01Y54"
      }
    },
    {
      "cell_type": "code",
      "source": [
        "# Get input from the user\n",
        "number = float(input(\"Enter a number: \"))\n",
        "\n",
        "# Check if the number is positive, negative, or zero\n",
        "if number > 0:\n",
        "    print(\"The number is positive.\")\n",
        "elif number < 0:\n",
        "    print(\"The number is negative.\")\n",
        "else:\n",
        "    print(\"The number is zero.\")\n"
      ],
      "metadata": {
        "id": "vM7IsKnm1cKG",
        "colab": {
          "base_uri": "https://localhost:8080/"
        },
        "outputId": "5ee4d2ba-dc1e-43df-daa7-5ddeb7b5a6b0"
      },
      "execution_count": 5,
      "outputs": [
        {
          "output_type": "stream",
          "name": "stdout",
          "text": [
            "Enter a number: 12\n",
            "The number is positive.\n"
          ]
        }
      ]
    },
    {
      "cell_type": "markdown",
      "source": [
        "12: Write a for loop to print numbers from 1 to 10\n"
      ],
      "metadata": {
        "id": "Qo7vXoT1CPbn"
      }
    },
    {
      "cell_type": "code",
      "source": [
        "for i in range (1,11):\n",
        "  print(i)"
      ],
      "metadata": {
        "colab": {
          "base_uri": "https://localhost:8080/"
        },
        "id": "HL4NMEPcCU7H",
        "outputId": "5b6a4863-0943-45f8-bbd9-e0a7f5a2dc19"
      },
      "execution_count": 3,
      "outputs": [
        {
          "output_type": "stream",
          "name": "stdout",
          "text": [
            "1\n",
            "2\n",
            "3\n",
            "4\n",
            "5\n",
            "6\n",
            "7\n",
            "8\n",
            "9\n",
            "10\n"
          ]
        }
      ]
    },
    {
      "cell_type": "markdown",
      "source": [
        "13: Write a Python program to find the sum of all even numbers between 1 and 50\n"
      ],
      "metadata": {
        "id": "akhipHQUCul3"
      }
    },
    {
      "cell_type": "code",
      "source": [
        "# Calculate the sum of even numbers between 1 and 50 using range and sum\n",
        "total_sum = sum(range(2, 51, 2))\n",
        "\n",
        "# Output the result\n",
        "print(\"The sum of all even numbers between 1 and 50 is:\", total_sum)\n"
      ],
      "metadata": {
        "colab": {
          "base_uri": "https://localhost:8080/"
        },
        "id": "gdolKq3DDqD-",
        "outputId": "34062355-c99b-4f97-aa49-bcb0663b3f50"
      },
      "execution_count": 4,
      "outputs": [
        {
          "output_type": "stream",
          "name": "stdout",
          "text": [
            "The sum of all even numbers between 1 and 50 is: 650\n"
          ]
        }
      ]
    },
    {
      "cell_type": "markdown",
      "source": [
        "14: Write a program to reverse a string using a while loop"
      ],
      "metadata": {
        "id": "wKW0Mc7_DvrX"
      }
    },
    {
      "cell_type": "code",
      "source": [
        "# Input string\n",
        "input_string = \"Hello, World!\"\n",
        "\n",
        "# Initialize variables\n",
        "reversed_str = \"\"\n",
        "index = len(input_string) - 1\n",
        "\n",
        "# Reverse the string using a while loop\n",
        "while index >= 0:\n",
        "    reversed_str += input_string[index]\n",
        "    index -= 1\n",
        "\n",
        "# Output the reversed string\n",
        "print(\"Reversed string:\", reversed_str)\n"
      ],
      "metadata": {
        "colab": {
          "base_uri": "https://localhost:8080/"
        },
        "id": "x-G73g-cEQR2",
        "outputId": "29a10a64-cab5-4617-e79e-ad3c868af8d2"
      },
      "execution_count": 6,
      "outputs": [
        {
          "output_type": "stream",
          "name": "stdout",
          "text": [
            "Reversed string: !dlroW ,olleH\n"
          ]
        }
      ]
    },
    {
      "cell_type": "markdown",
      "source": [
        "15: Write a Python program to calculate the factorial of a number provided by the user using a while loop"
      ],
      "metadata": {
        "id": "JH5dFp0_ET7V"
      }
    },
    {
      "cell_type": "code",
      "source": [
        "# Get user input\n",
        "num = int(input(\"Enter a number to calculate its factorial: \"))\n",
        "\n",
        "# Initialize variables\n",
        "factorial = 1\n",
        "i = 1\n",
        "\n",
        "# Calculate factorial using a while loop\n",
        "while i <= num:\n",
        "    factorial *= i\n",
        "    i += 1\n",
        "\n",
        "# Output the result\n",
        "print(\"The factorial of\", num, \"is:\", factorial)\n"
      ],
      "metadata": {
        "colab": {
          "base_uri": "https://localhost:8080/"
        },
        "id": "MyPaT9m7Ehoj",
        "outputId": "b15f7eeb-e60e-4f86-906d-142b5eb5bd17"
      },
      "execution_count": 7,
      "outputs": [
        {
          "output_type": "stream",
          "name": "stdout",
          "text": [
            "Enter a number to calculate its factorial: 15\n",
            "The factorial of 15 is: 1307674368000\n"
          ]
        }
      ]
    }
  ]
}